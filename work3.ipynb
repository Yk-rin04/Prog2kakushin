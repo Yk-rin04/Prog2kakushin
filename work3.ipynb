{
  "nbformat": 4,
  "nbformat_minor": 0,
  "metadata": {
    "colab": {
      "provenance": [],
      "authorship_tag": "ABX9TyN+aI5Veu/xR5qTq2GVpods",
      "include_colab_link": true
    },
    "kernelspec": {
      "name": "python3",
      "display_name": "Python 3"
    },
    "language_info": {
      "name": "python"
    }
  },
  "cells": [
    {
      "cell_type": "markdown",
      "metadata": {
        "id": "view-in-github",
        "colab_type": "text"
      },
      "source": [
        "<a href=\"https://colab.research.google.com/github/Yk-rin04/Prog2kakushin/blob/main/work3.ipynb\" target=\"_parent\"><img src=\"https://colab.research.google.com/assets/colab-badge.svg\" alt=\"Open In Colab\"/></a>"
      ]
    },
    {
      "cell_type": "markdown",
      "source": [
        "#Work3\n",
        "turtleまたはopencvを使ったプログラム\n",
        "\n",
        "書き順がわからなくなりがちな漢字ランキングトップ１０の内，ユーザーが指定した漢字をturtleが動いて書き方を示してくれるプログラム．"
      ],
      "metadata": {
        "id": "S1t6RMOT5yu2"
      }
    },
    {
      "cell_type": "code",
      "execution_count": null,
      "metadata": {
        "id": "_OYkCV_c5vQN"
      },
      "outputs": [],
      "source": []
    }
  ]
}