{
  "nbformat": 4,
  "nbformat_minor": 0,
  "metadata": {
    "colab": {
      "provenance": [],
      "authorship_tag": "ABX9TyNxu1267b0kyVWFF/UDBDUa",
      "include_colab_link": true
    },
    "kernelspec": {
      "name": "python3",
      "display_name": "Python 3"
    },
    "language_info": {
      "name": "python"
    }
  },
  "cells": [
    {
      "cell_type": "markdown",
      "metadata": {
        "id": "view-in-github",
        "colab_type": "text"
      },
      "source": [
        "<a href=\"https://colab.research.google.com/github/Yk-rin04/Prog2kakushin/blob/main/work2.ipynb\" target=\"_parent\"><img src=\"https://colab.research.google.com/assets/colab-badge.svg\" alt=\"Open In Colab\"/></a>"
      ]
    },
    {
      "cell_type": "markdown",
      "source": [
        "#Work2\n",
        "numpyを用いたプログラム\n",
        "\n",
        "音の名前（A,B,C等），音の長さ，どのようにするか（連結または重ね合わせ）を入力することによって作曲ができるプログラム．"
      ],
      "metadata": {
        "id": "8BG-U0GM4Jbu"
      }
    },
    {
      "cell_type": "code",
      "execution_count": null,
      "metadata": {
        "id": "7vlF9id84CjY"
      },
      "outputs": [],
      "source": []
    }
  ]
}