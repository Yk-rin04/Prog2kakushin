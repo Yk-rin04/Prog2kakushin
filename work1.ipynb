{
  "nbformat": 4,
  "nbformat_minor": 0,
  "metadata": {
    "colab": {
      "provenance": [],
      "authorship_tag": "ABX9TyN/1SFzMAbOt5OaoCYpm8EY",
      "include_colab_link": true
    },
    "kernelspec": {
      "name": "python3",
      "display_name": "Python 3"
    },
    "language_info": {
      "name": "python"
    }
  },
  "cells": [
    {
      "cell_type": "markdown",
      "metadata": {
        "id": "view-in-github",
        "colab_type": "text"
      },
      "source": [
        "<a href=\"https://colab.research.google.com/github/Yk-rin04/Prog2kakushin/blob/main/work1.ipynb\" target=\"_parent\"><img src=\"https://colab.research.google.com/assets/colab-badge.svg\" alt=\"Open In Colab\"/></a>"
      ]
    },
    {
      "cell_type": "markdown",
      "source": [
        "#Work1\n",
        "pandasを使ったプログラム\n",
        "\n",
        "AKB48のCDシングルのデータを用いた，売り上げ枚数ランキング（ランキングの中の欲しい情報だけ抜き出せるようにもする），曲ごとの売り上げ枚数の変化のグラフ，などを表示できるプログラム"
      ],
      "metadata": {
        "id": "KHxQMqQJzXzY"
      }
    },
    {
      "cell_type": "code",
      "execution_count": null,
      "metadata": {
        "id": "dem5inO7zUde"
      },
      "outputs": [],
      "source": []
    }
  ]
}